{
  "nbformat": 4,
  "nbformat_minor": 0,
  "metadata": {
    "colab": {
      "provenance": [],
      "authorship_tag": "ABX9TyNwfi6MQ4q+54whzUyoeF9v",
      "include_colab_link": true
    },
    "kernelspec": {
      "name": "python3",
      "display_name": "Python 3"
    },
    "language_info": {
      "name": "python"
    }
  },
  "cells": [
    {
      "cell_type": "markdown",
      "metadata": {
        "id": "view-in-github",
        "colab_type": "text"
      },
      "source": [
        "<a href=\"https://colab.research.google.com/github/l84711911-netizen/847/blob/main/Untitled2.ipynb\" target=\"_parent\"><img src=\"https://colab.research.google.com/assets/colab-badge.svg\" alt=\"Open In Colab\"/></a>"
      ]
    },
    {
      "cell_type": "code",
      "source": [
        "print(\"Hello,world!\")"
      ],
      "metadata": {
        "colab": {
          "base_uri": "https://localhost:8080/"
        },
        "id": "c5Dd-VH5ZyqH",
        "outputId": "e2462d87-4c40-41aa-dd4a-76558379bccc"
      },
      "execution_count": 129,
      "outputs": [
        {
          "output_type": "stream",
          "name": "stdout",
          "text": [
            "Hello,world!\n"
          ]
        }
      ]
    },
    {
      "cell_type": "code",
      "source": [
        "print(\"4 8 15 16 23 42\")"
      ],
      "metadata": {
        "colab": {
          "base_uri": "https://localhost:8080/"
        },
        "id": "b24_Inwdbe4l",
        "outputId": "ef6164a8-fc73-48bf-b198-fef5aa84f59d"
      },
      "execution_count": 130,
      "outputs": [
        {
          "output_type": "stream",
          "name": "stdout",
          "text": [
            "4 8 15 16 23 42\n"
          ]
        }
      ]
    },
    {
      "cell_type": "code",
      "source": [
        "print(\"*\")\n",
        "print(\"**\")\n",
        "print(\"***\")\n",
        "print(\"****\")\n",
        "print(\"*****\")\n",
        "print(\"******\")\n",
        "print(\"********\")"
      ],
      "metadata": {
        "colab": {
          "base_uri": "https://localhost:8080/"
        },
        "id": "cjlqEsr1cAzE",
        "outputId": "efa29271-2802-48da-da2a-90b03963ac58"
      },
      "execution_count": 131,
      "outputs": [
        {
          "output_type": "stream",
          "name": "stdout",
          "text": [
            "*\n",
            "**\n",
            "***\n",
            "****\n",
            "*****\n",
            "******\n",
            "********\n"
          ]
        }
      ]
    },
    {
      "cell_type": "code",
      "source": [
        "print(\"Отчет о доходах\")\n",
        "print(\"1 квартал:120000 руб.\")\n",
        "print(\"2 квартал:135000 руб.\")\n",
        "print(\"3 квартал:128000 руб.\")\n",
        "print(\"4 квартал:142000 руб.\")"
      ],
      "metadata": {
        "colab": {
          "base_uri": "https://localhost:8080/"
        },
        "id": "VMFVRd_TccwY",
        "outputId": "d89e81f9-5289-47e5-91b3-a62ba2209a13"
      },
      "execution_count": 132,
      "outputs": [
        {
          "output_type": "stream",
          "name": "stdout",
          "text": [
            "Отчет о доходах\n",
            "1 квартал:120000 руб.\n",
            "2 квартал:135000 руб.\n",
            "3 квартал:128000 руб.\n",
            "4 квартал:142000 руб.\n"
          ]
        }
      ]
    },
    {
      "cell_type": "code",
      "source": [
        "name=input()\n",
        "print(\"Добро пожаловать в команду,\" , name, \"!\")"
      ],
      "metadata": {
        "id": "sCkCSYtPt-S7",
        "colab": {
          "base_uri": "https://localhost:8080/"
        },
        "outputId": "c30a2c39-897b-47f4-eb9d-da50556e530c"
      },
      "execution_count": 133,
      "outputs": [
        {
          "output_type": "stream",
          "name": "stdout",
          "text": [
            "Влад\n",
            "Добро пожаловать в команду, Влад !\n"
          ]
        }
      ]
    },
    {
      "cell_type": "code",
      "source": [
        "name_comp=input() #вводим сбер\n",
        "print(name_comp, \"-лидер рынка!\")"
      ],
      "metadata": {
        "id": "40RCzJAbx5aI",
        "colab": {
          "base_uri": "https://localhost:8080/"
        },
        "outputId": "c76fe6a6-1345-45b8-d94b-813e5024f629"
      },
      "execution_count": 134,
      "outputs": [
        {
          "output_type": "stream",
          "name": "stdout",
          "text": [
            "Сбер\n",
            "Сбер -лидер рынка!\n"
          ]
        }
      ]
    },
    {
      "cell_type": "code",
      "source": [],
      "metadata": {
        "id": "_iEKT9e-5bUx"
      },
      "execution_count": null,
      "outputs": []
    },
    {
      "cell_type": "code",
      "source": [
        "report_1 = input()\n",
        "\n",
        "report_2 = input()\n",
        "report_3 = input()\n",
        "report_list=[report_1, report_2, report_3]\n",
        "report_list.reverse()\n",
        "print(*report_list, sep=\"/n\")"
      ],
      "metadata": {
        "colab": {
          "base_uri": "https://localhost:8080/"
        },
        "id": "AI-x1aJH3l_h",
        "outputId": "de059776-2524-44d0-e910-266b23c84826"
      },
      "execution_count": 148,
      "outputs": [
        {
          "output_type": "stream",
          "name": "stdout",
          "text": [
            "Продажи за январь\n",
            "Продажи за февраль\n",
            "Продажи за март\n",
            "Продажи за март/nПродажи за февраль/nПродажи за январь\n"
          ]
        }
      ]
    },
    {
      "cell_type": "code",
      "source": [
        "report_1=input()\n",
        "report_2=input()\n",
        "report_3=input()\n",
        "report_list = [report_1, report_2, report_3]\n",
        "print(\"*report_list\")\n"
      ],
      "metadata": {
        "colab": {
          "base_uri": "https://localhost:8080/"
        },
        "id": "oasMRAYH9i9n",
        "outputId": "50a9315d-d346-4cfc-86af-1f722ba407e6"
      },
      "execution_count": 152,
      "outputs": [
        {
          "output_type": "stream",
          "name": "stdout",
          "text": [
            "Sales Q\n",
            "1000\n",
            "8\n",
            "*report_list\n"
          ]
        }
      ]
    },
    {
      "cell_type": "code",
      "source": [
        "base_prise=100\n",
        "growth_percent=20\n",
        "new_price=base_prise+(base_prise/100*growth_percent)\n",
        "delta=new_price-base_prise\n",
        "print(\"New_price=\", new_price, \"delta =\", delta)"
      ],
      "metadata": {
        "colab": {
          "base_uri": "https://localhost:8080/"
        },
        "id": "1_g34pF2_hKw",
        "outputId": "70f39302-0140-4cf3-cef1-b041b78cb1c8"
      },
      "execution_count": 156,
      "outputs": [
        {
          "output_type": "stream",
          "name": "stdout",
          "text": [
            "New_price= 120.0 delta = 20.0\n"
          ]
        }
      ]
    },
    {
      "cell_type": "code",
      "source": [
        "print(\"Северный\", \"Центральный\", \"Южный\", sep=\"***\")"
      ],
      "metadata": {
        "colab": {
          "base_uri": "https://localhost:8080/"
        },
        "id": "fOZgHdyHDvv-",
        "outputId": "c594c187-a17d-49e1-86e4-ebc9743b383b"
      },
      "execution_count": 158,
      "outputs": [
        {
          "output_type": "stream",
          "name": "stdout",
          "text": [
            "Северный***Центральный***Южный\n"
          ]
        }
      ]
    },
    {
      "cell_type": "code",
      "source": [
        "name_analitik=input()\n",
        "print(\"name_analitik\")"
      ],
      "metadata": {
        "colab": {
          "base_uri": "https://localhost:8080/"
        },
        "id": "N19XXMynFjfk",
        "outputId": "128c2d5c-8aa1-4d86-ae80-9d1b3a78b5b0"
      },
      "execution_count": 167,
      "outputs": [
        {
          "output_type": "stream",
          "name": "stdout",
          "text": [
            "Подключение установлено. Добро пожаловать, Влад!\n",
            "name_analitik\n"
          ]
        }
      ]
    },
    {
      "cell_type": "code",
      "source": [
        "print(\"|\")\n",
        "print(\"Молоко\", end=\" | \")\n",
        "print(\"Хлеб\", end=\" | \")\n",
        "print(\"Сыр\", end=\" | \")"
      ],
      "metadata": {
        "colab": {
          "base_uri": "https://localhost:8080/"
        },
        "id": "YXGQBts4L5kq",
        "outputId": "6d63c005-15fc-4bdd-a319-9d36645530e6"
      },
      "execution_count": 216,
      "outputs": [
        {
          "output_type": "stream",
          "name": "stdout",
          "text": [
            "|\n",
            "Молоко | Хлеб | Сыр | "
          ]
        }
      ]
    },
    {
      "cell_type": "code",
      "source": [
        "value_str = \"42.7\"\n",
        "integer_part = int(float(value_str))\n",
        "print(integer_part)"
      ],
      "metadata": {
        "colab": {
          "base_uri": "https://localhost:8080/"
        },
        "id": "uwRPTvZFWkil",
        "outputId": "c9e3a50b-1d3c-426f-b9ae-ae4a6a0cbb80"
      },
      "execution_count": 218,
      "outputs": [
        {
          "output_type": "stream",
          "name": "stdout",
          "text": [
            "42\n"
          ]
        }
      ]
    },
    {
      "cell_type": "code",
      "source": [
        "norma=10\n",
        "orders_yesterday=10\n",
        "plan=20\n",
        "deviation1=abs(orders_yesterday - norma)\n",
        "deviation2=abs(plan - norma)\n",
        "print(\"Абсолютное Отклонение 1:\" , deviation1)\n",
        "print(\"Абсолютное Отклонение 2:\" , deviation2)"
      ],
      "metadata": {
        "colab": {
          "base_uri": "https://localhost:8080/"
        },
        "id": "OesG6jtCaXbL",
        "outputId": "e779c54f-d5f9-4954-800b-95d1acdf9965"
      },
      "execution_count": 227,
      "outputs": [
        {
          "output_type": "stream",
          "name": "stdout",
          "text": [
            "Абсолютное Отклонение 1: 0\n",
            "Абсолютное Отклонение 2: 10\n"
          ]
        }
      ]
    },
    {
      "cell_type": "code",
      "source": [
        "sugar_levels = [1,2,3,4,5]\n",
        "max_level = max(sugar_levels)\n",
        "min_level = min(sugar_levels)\n",
        "print(\"Максимум:\" , max_level)\n",
        "print(\"Минимум:\" , min_level)"
      ],
      "metadata": {
        "colab": {
          "base_uri": "https://localhost:8080/"
        },
        "id": "iS0NSK-4fgn5",
        "outputId": "05488d1b-6e70-4582-a2d0-bbcb0efe0db6"
      },
      "execution_count": 229,
      "outputs": [
        {
          "output_type": "stream",
          "name": "stdout",
          "text": [
            "Максимум: 5\n",
            "Минимум: 1\n"
          ]
        }
      ]
    },
    {
      "cell_type": "code",
      "source": [
        "# Сохраняем имя и фамилию в отдельные переменные\n",
        "name = \"Антон\"\n",
        "surname = \"Иванов\"\n",
        "\n",
        "# Объединяем строки с помощью оператора +\n",
        "greeting = \"Привет, \" + name + \" \" + surname + \"! Вы только что начали изучать Python\"\n",
        "\n",
        "# Выводим результат\n",
        "print(greeting)\n"
      ],
      "metadata": {
        "colab": {
          "base_uri": "https://localhost:8080/"
        },
        "id": "VxE5bR65hJKp",
        "outputId": "267760c4-6888-453d-872c-db6673b2893c"
      },
      "execution_count": 254,
      "outputs": [
        {
          "output_type": "stream",
          "name": "stdout",
          "text": [
            "Привет, Антон Иванов! Вы только что начали изучать Python\n"
          ]
        }
      ]
    },
    {
      "cell_type": "code",
      "source": [
        "Cit1 =input()\n",
        "Cit2 = input()\n",
        "\n",
        "# Объединяем строки с помощью оператора +\n",
        "greeting = Cit1 + Cit2\n",
        "\n",
        "# Выводим результат\n",
        "print(greeting)"
      ],
      "metadata": {
        "colab": {
          "base_uri": "https://localhost:8080/"
        },
        "id": "GMJ7XUhcmE62",
        "outputId": "79cf47e8-2cc3-4164-adab-289d18177e21"
      },
      "execution_count": 259,
      "outputs": [
        {
          "output_type": "stream",
          "name": "stdout",
          "text": [
            "каждый в этой стране  должен научиться программировать,\n",
            "потому что это учит думать\"\n",
            "каждый в этой стране  должен научиться программировать,потому что это учит думать\"\n"
          ]
        }
      ]
    },
    {
      "cell_type": "code",
      "source": [
        "purchase_amount = int(input(\"Введите сумму покупки: \"))\n",
        "has_discount = purchase_amount > 1000\n",
        "print(has_discount)"
      ],
      "metadata": {
        "colab": {
          "base_uri": "https://localhost:8080/"
        },
        "id": "GLtZUWcKo2Oc",
        "outputId": "c8871af4-4958-4d11-d0f5-3ce3117924b6"
      },
      "execution_count": 282,
      "outputs": [
        {
          "output_type": "stream",
          "name": "stdout",
          "text": [
            "Введите сумму покупки: 999\n",
            "False\n"
          ]
        }
      ]
    },
    {
      "cell_type": "code",
      "source": [
        "age = int(input(\"Введите ваш возраст: \"))\n",
        "if age >= 18:\n",
        "    print(\"True.\")\n",
        "else:\n",
        "    print(\"False.\")"
      ],
      "metadata": {
        "colab": {
          "base_uri": "https://localhost:8080/"
        },
        "id": "VVA1FR4OttU6",
        "outputId": "c568ef60-22ec-4dd9-e1bf-4d9fcd44b3f6"
      },
      "execution_count": 291,
      "outputs": [
        {
          "output_type": "stream",
          "name": "stdout",
          "text": [
            "Введите ваш возраст: 16\n",
            "False.\n"
          ]
        }
      ]
    },
    {
      "cell_type": "code",
      "source": [],
      "metadata": {
        "id": "7unCE0dYwfnx"
      },
      "execution_count": null,
      "outputs": []
    },
    {
      "cell_type": "code",
      "metadata": {
        "colab": {
          "base_uri": "https://localhost:8080/"
        },
        "id": "47c5b6d8",
        "outputId": "d91d7bb7-f0f4-4047-b79b-63d01a6464cb"
      },
      "source": [
        "# Вводим скорости потоков и начальное расстояние\n",
        "v1 = float(input(\"Введите скорость первого потока (МБ/ч): \"))\n",
        "v2 = float(input(\"Введите скорость второго потока (МБ/ч): \"))\n",
        "s = float(input(\"Введите начальное расстояние между потоками (МБ): \"))\n",
        "\n",
        "# Рассчитываем относительную скорость сближения\n",
        "relative_speed = v1 + v2\n",
        "\n",
        "# Рассчитываем время до встречи\n",
        "# Учитываем случай, когда скорости равны 0, чтобы избежать деления на ноль\n",
        "if relative_speed == 0:\n",
        "    print(\"Потоки не сближаются.\")\n",
        "else:\n",
        "    time_to_meet = s / relative_speed\n",
        "    print(f\"Потоки встретятся через {time_to_meet:.2f} часов.\")"
      ],
      "execution_count": 293,
      "outputs": [
        {
          "output_type": "stream",
          "name": "stdout",
          "text": [
            "Введите скорость первого потока (МБ/ч): 50\n",
            "Введите скорость второго потока (МБ/ч): 70\n",
            "Введите начальное расстояние между потоками (МБ): 500\n",
            "Потоки встретятся через 4.17 часов.\n"
          ]
        }
      ]
    },
    {
      "cell_type": "code",
      "metadata": {
        "colab": {
          "base_uri": "https://localhost:8080/"
        },
        "id": "0b4dda9f",
        "outputId": "41ff0f70-cbcf-476f-ea8d-15a07d6cb1e1"
      },
      "source": [
        "# Вводим длины катетов\n",
        "cathetus1 = float(input(\"Введите длину первого катета: \"))\n",
        "cathetus2 = float(input(\"Введите длину второго катета: \"))\n",
        "\n",
        "# Вычисляем площадь прямоугольного треугольника\n",
        "area = 0.5 * cathetus1 * cathetus2\n",
        "\n",
        "# Выводим результат\n",
        "print(f\"Площадь прямоугольного треугольника: {area:.2f}\")"
      ],
      "execution_count": 304,
      "outputs": [
        {
          "output_type": "stream",
          "name": "stdout",
          "text": [
            "Введите длину первого катета: 443\n",
            "Введите длину второго катета: 390\n",
            "Площадь прямоугольного треугольника: 86385.00\n"
          ]
        }
      ]
    },
    {
      "cell_type": "code",
      "metadata": {
        "colab": {
          "base_uri": "https://localhost:8080/"
        },
        "id": "0ea82f16",
        "outputId": "3b173c44-162d-481d-e1b1-947cd716d251"
      },
      "source": [
        "# Вводим температуру в Фаренгейтах\n",
        "fahrenheit = float(input(\"Введите температуру в Фаренгейтах: \"))\n",
        "\n",
        "# Вычисляем температуру в Цельсиях\n",
        "celsius = (fahrenheit - 32) * 5/9\n",
        "\n",
        "# Выводим результат\n",
        "print(f\"{fahrenheit} градусов по Фаренгейту соответствует {celsius:.2f} градусов по Цельсию.\")"
      ],
      "execution_count": 305,
      "outputs": [
        {
          "output_type": "stream",
          "name": "stdout",
          "text": [
            "Введите температуру в Фаренгейтах: 450.55\n",
            "450.55 градусов по Фаренгейту соответствует 232.53 градусов по Цельсию.\n"
          ]
        }
      ]
    },
    {
      "cell_type": "code",
      "metadata": {
        "colab": {
          "base_uri": "https://localhost:8080/"
        },
        "id": "841c472b",
        "outputId": "9a446ecb-a05d-4652-806a-2a920c8baf72"
      },
      "source": [
        "# Вводим дневную выручку как строку\n",
        "daily_revenue_str = input(\"Введите дневную выручку: \")\n",
        "\n",
        "# Преобразуем строку в число (float)\n",
        "daily_revenue = float(daily_revenue_str)\n",
        "\n",
        "# Рассчитываем бонус (1% от выручки)\n",
        "bonus = daily_revenue * 0.01\n",
        "\n",
        "# Округляем бонус вниз до целого числа\n",
        "bonus_integer = int(bonus)\n",
        "\n",
        "# Выводим результат\n",
        "print(f\"Дневная выручка: {daily_revenue:.2f}\")\n",
        "print(f\"Рассчитанный бонус (1%): {bonus:.2f}\")\n"
      ],
      "execution_count": 311,
      "outputs": [
        {
          "output_type": "stream",
          "name": "stdout",
          "text": [
            "Введите дневную выручку: 438746.78\n",
            "Дневная выручка: 438746.78\n",
            "Рассчитанный бонус (1%): 4387.47\n"
          ]
        }
      ]
    }
  ]
}